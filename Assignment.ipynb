{
 "cells": [
  {
   "cell_type": "markdown",
   "id": "4ceaefc5",
   "metadata": {},
   "source": [
    "## Principle of Derivatives Securities"
   ]
  },
  {
   "cell_type": "markdown",
   "id": "a800beab",
   "metadata": {},
   "source": [
    "### Assignment"
   ]
  },
  {
   "cell_type": "markdown",
   "id": "42f658d3",
   "metadata": {},
   "source": [
    "#### Shaghayegh Hossein Ghanemi (11304285)"
   ]
  },
  {
   "cell_type": "code",
   "execution_count": 1,
   "id": "b0c6655b",
   "metadata": {},
   "outputs": [],
   "source": [
    "import numpy as np\n",
    "import pandas as pd\n",
    "import matplotlib.pyplot as plt\n",
    "from scipy.stats import norm\n"
   ]
  },
  {
   "cell_type": "markdown",
   "id": "3d6f97f8",
   "metadata": {},
   "source": [
    ">> ## Question 1"
   ]
  },
  {
   "cell_type": "markdown",
   "id": "6f6af44a",
   "metadata": {},
   "source": [
    "### European Put Black-Scholes Model:"
   ]
  },
  {
   "cell_type": "code",
   "execution_count": 2,
   "id": "1f18de57",
   "metadata": {},
   "outputs": [
    {
     "name": "stdout",
     "output_type": "stream",
     "text": [
      "           T Individual put price European(each for 100 CAD/USD)\n",
      "1   0.083333                                           1.475014 \n",
      "2   0.166667                                           2.051823 \n",
      "3       0.25                                           2.480437 \n",
      "4   0.333333                                           2.832199 \n",
      "5   0.416667                                           3.134769 \n",
      "6        0.5                                           3.402347 \n",
      "7   0.583333                                           3.643374 \n",
      "8   0.666667                                           3.863356 \n",
      "9       0.75                                            4.06612 \n",
      "10  0.833333                                           4.254456 \n",
      "11  0.916667                                           4.430471 \n",
      "12       1.0                                           4.595804 \n"
     ]
    }
   ],
   "source": [
    "# Given parameters\n",
    "X0 = 1.33   # Current exchange rate price\n",
    "K = 1.33   # Strike of exchange rate\n",
    "sigma = 0.1  # Volatility of the underlying asset\n",
    "rf = 0.01   # foreign risk-free rate\n",
    "r = 0.02   # local risk-free rate\n",
    "T_years = 1\n",
    "n = 12  # number of periods in a year\n",
    "\n",
    "def BS_put_price(X0, K, sigma, rf, T, r):\n",
    "    # Calculating d1 and d2 and fomrming the valuation of European put with BS formula\n",
    "    d1 = (np.log(X0 / K) + (rf - r + 0.5 * sigma**2) * T) / (sigma * np.sqrt(T))     \n",
    "    d2 = d1 - sigma * np.sqrt(T)\n",
    "\n",
    "    put_price = K * np.exp(-rf * T) * norm.cdf(-d2) - X0 * np.exp(-r * T) * norm.cdf(-d1)\n",
    "    return put_price\n",
    "\n",
    "# Creating a table\n",
    "put_prices_table = pd.DataFrame(index=range(1, n+1), columns=[\"T\", \"Individual put price European(each for 100 CAD/USD)\"])\n",
    "\n",
    "put_prices_array = np.zeros(n)\n",
    "# Calculation for 100 of individual European put price and Populating the table\n",
    "for i in range(1, n+1):\n",
    "    T = i / n  # Fraction of a year\n",
    "    #Convert the cost to the desired units (100 CAD/USD)\n",
    "    put_price = 100 * BS_put_price(X0, K, sigma, r, T, rf)\n",
    "    \n",
    "    put_prices_table.at[i, \"T\"] = T\n",
    "    put_prices_table.at[i, \"Individual put price European(each for 100 CAD/USD)\"] = put_price\n",
    "    put_prices_array[i-1] = put_price\n",
    "    \n",
    "# Display the table\n",
    "print(put_prices_table)\n"
   ]
  },
  {
   "cell_type": "code",
   "execution_count": 3,
   "id": "ceb12989",
   "metadata": {},
   "outputs": [
    {
     "name": "stdout",
     "output_type": "stream",
     "text": [
      "40.230171551929004\n"
     ]
    }
   ],
   "source": [
    "# Calculating the total cost of the European put option\n",
    "Total_cost = put_prices_table['Individual put price European(each for 100 CAD/USD)'].sum()\n",
    "\n",
    "print(Total_cost)\n"
   ]
  },
  {
   "cell_type": "code",
   "execution_count": 4,
   "id": "09bc0c8a",
   "metadata": {},
   "outputs": [
    {
     "name": "stdout",
     "output_type": "stream",
     "text": [
      "           T Individual put price European(each for 100 CAD/USD)  Total Cost\n",
      "1   0.083333                                           1.475014    40.230172\n",
      "2   0.166667                                           2.051823          NaN\n",
      "3       0.25                                           2.480437          NaN\n",
      "4   0.333333                                           2.832199          NaN\n",
      "5   0.416667                                           3.134769          NaN\n",
      "6        0.5                                           3.402347          NaN\n",
      "7   0.583333                                           3.643374          NaN\n",
      "8   0.666667                                           3.863356          NaN\n",
      "9       0.75                                            4.06612          NaN\n",
      "10  0.833333                                           4.254456          NaN\n",
      "11  0.916667                                           4.430471          NaN\n",
      "12       1.0                                           4.595804          NaN\n"
     ]
    }
   ],
   "source": [
    "# Calculating the total cost of the European put option\n",
    "Total_cost = put_prices_table['Individual put price European(each for 100 CAD/USD)'].sum()\n",
    "\n",
    "# Adding a new column 'Total Cost' and set the value in the first row\n",
    "put_prices_table['Total Cost'] = np.nan  # Creating an empty column with NaN values\n",
    "put_prices_table.at[1, 'Total Cost'] = Total_cost  # Setting the total cost value in the first row\n",
    "\n",
    "# Print the table\n",
    "print(put_prices_table)\n"
   ]
  },
  {
   "cell_type": "markdown",
   "id": "12497bee",
   "metadata": {},
   "source": [
    "### Asian Put Monte Carlo Simulation:"
   ]
  },
  {
   "cell_type": "code",
   "execution_count": 5,
   "id": "091adc27",
   "metadata": {},
   "outputs": [
    {
     "name": "stdout",
     "output_type": "stream",
     "text": [
      "Cost of an Asian put (for 12 x 100 CAD/USD): 34.13327742923276\n",
      "95% Confidence Interval: 33.42890504570748 34.83764981275804\n"
     ]
    }
   ],
   "source": [
    "np.random.seed(7)\n",
    "\n",
    "def asian_put_monte_carlo(N, Zi, X0, r, rf, sigma, T_years, K):\n",
    "    # Generate all random values needed for the simulation \n",
    "    zi_values = np.random.standard_normal((Zi, N))\n",
    "    \n",
    "    # Create a matrix to store exchange rates for each period in each simulation\n",
    "    rate_matrix = np.zeros((N + 1, Zi))\n",
    "    rate_matrix[0] = X0\n",
    "    \n",
    "    # Simulate exchange rates for each period\n",
    "    for l in range(1, N + 1):\n",
    "        rate_matrix[l] = rate_matrix[l-1] * np.exp((r - rf - 0.5 * sigma**2) * (T_years / N) + sigma * np.sqrt(T_years / N) * zi_values[:, l-1])\n",
    "    \n",
    "    # Calculate the average exchange rate over the N periods for each simulation\n",
    "    average_stock_price = np.mean(rate_matrix[1:], axis=0)  # Exclude the initial price\n",
    "    \n",
    "    # Calculate the payoff for each path using vectorized operations\n",
    "    payoffs = np.where(K > average_stock_price, np.exp(-r * T_years) * (K - average_stock_price), 0)\n",
    "\n",
    "    # Convert the cost to the desired units (12 x 100 CAD/USD)\n",
    "    cost_of_asian_put = np.mean(payoffs) * 12 * 100\n",
    "    \n",
    "    return cost_of_asian_put, payoffs\n",
    "\n",
    "# Parameters\n",
    "N = 12  # Number of consecutive periods in a year\n",
    "Zi = 20000  # Number of simulations\n",
    "\n",
    "# Run the Asian put Monte Carlo simulation\n",
    "cost_of_asian_put, payoffs = asian_put_monte_carlo(N, Zi, X0, r, rf, sigma, T_years, K)\n",
    "\n",
    "# Calculate the 95% confidence interval using mean and standard deviation\n",
    "mean_payoff = np.mean(payoffs)\n",
    "std_dev_payoff = np.std(payoffs, ddof=1)  # Use ddof=1 for sample standard deviation\n",
    "confidence_interval_low = mean_payoff - 1.96 * (std_dev_payoff / np.sqrt(Zi))\n",
    "confidence_interval_high = mean_payoff + 1.96 * (std_dev_payoff / np.sqrt(Zi))\n",
    "\n",
    "# Print results\n",
    "print(\"Cost of an Asian put (for 12 x 100 CAD/USD):\", cost_of_asian_put)\n",
    "print(\"95% Confidence Interval:\", 12 * 100 * confidence_interval_low, 12 * 100 * confidence_interval_high)\n"
   ]
  },
  {
   "cell_type": "markdown",
   "id": "eec1bf6a",
   "metadata": {},
   "source": [
    ">> ## Question 2"
   ]
  },
  {
   "cell_type": "code",
   "execution_count": 6,
   "id": "7fbb25b9",
   "metadata": {},
   "outputs": [
    {
     "name": "stdout",
     "output_type": "stream",
     "text": [
      "Mean of the realized exhange rate: 1.2680\n",
      "Inflows without hedging: 1521.6\n",
      "           T Individual put price European(each for 100 CAD/USD)  Total Cost  \\\n",
      "1   0.083333                                           1.475014    40.230172   \n",
      "2   0.166667                                           2.051823          NaN   \n",
      "3       0.25                                           2.480437          NaN   \n",
      "4   0.333333                                           2.832199          NaN   \n",
      "5   0.416667                                           3.134769          NaN   \n",
      "6        0.5                                           3.402347          NaN   \n",
      "7   0.583333                                           3.643374          NaN   \n",
      "8   0.666667                                           3.863356          NaN   \n",
      "9       0.75                                            4.06612          NaN   \n",
      "10  0.833333                                           4.254456          NaN   \n",
      "11  0.916667                                           4.430471          NaN   \n",
      "12       1.0                                           4.595804          NaN   \n",
      "\n",
      "    Realized exchange rate Profit for each put  \n",
      "1                   1.3059            0.934986  \n",
      "2                   1.2863            2.318177  \n",
      "3                   1.3069           -0.170437  \n",
      "4                   1.2814            2.027801  \n",
      "5                   1.2850            1.365231  \n",
      "6                   1.2720            2.397653  \n",
      "7                   1.2686            2.496626  \n",
      "8                   1.2578            3.356644  \n",
      "9                   1.2193             7.00388  \n",
      "10                  1.2497            3.775544  \n",
      "11                  1.2740            1.169529  \n",
      "12                  1.2090            7.504196  \n",
      "Total profit for European puts: 34.2\n",
      "Inflows with hedging (European):1556\n",
      "Profit for the Asian put:40.28\n",
      "Inflows with hedging for Asian put:1562\n",
      "Difference between the hedged quantities (Asian - European):6.10\n"
     ]
    }
   ],
   "source": [
    "# Add the provided Realized exchange rate to our put prices table\n",
    "put_prices_table['Realized exchange rate']=[1.3059, 1.2863, 1.3069, 1.2814, 1.2850, 1.2720, 1.2686, 1.2578, 1.2193, 1.2497, 1.2740, 1.2090]\n",
    "\n",
    "#put_prices_table\n",
    "\n",
    "# Mean of the realized exhange rate, column R\n",
    "Mean_realized_exchange=put_prices_table['Realized exchange rate'].mean()\n",
    "\n",
    "print('Mean of the realized exhange rate: {:.4f}'.format(Mean_realized_exchange))\n",
    "\n",
    "#Inflows without hedging, column S\n",
    "in_without_hedge=12*100*Mean_realized_exchange\n",
    "print('Inflows without hedging: {:.1f}'.format(in_without_hedge))\n",
    "\n",
    "# Calculating profit for each put, column U\n",
    "put_prices_table['Profit for each put'] = 100 * np.maximum(K - put_prices_table['Realized exchange rate'], 0) - put_prices_table['Individual put price European(each for 100 CAD/USD)']\n",
    "# Total profit of European put\n",
    "Total_profit=put_prices_table['Profit for each put'].sum()\n",
    "# Display the modified table\n",
    "print(put_prices_table)\n",
    "\n",
    "# Replication of Column V\n",
    "print('Total profit for European puts: {:.1f}'.format(Total_profit))\n",
    "\n",
    "#Inflows with hedging, column W\n",
    "in_with_hedge_e = in_without_hedge + Total_profit\n",
    "print('Inflows with hedging (European):{:.0f}'.format(in_with_hedge_e))\n",
    "\n",
    "# Asian put profit for each, column Y\n",
    "profit_asian = 12 * 100 * np.maximum(K - Mean_realized_exchange, 0) - cost_of_asian_put\n",
    "\n",
    "print('Profit for the Asian put:{:.2f}'.format(profit_asian))\n",
    "\n",
    "# Inflows with hedging, Asian put option, column Z\n",
    "in_with_hedge_asian = in_without_hedge + profit_asian\n",
    "\n",
    "print('Inflows with hedging for Asian put:{:.0f}'.format(in_with_hedge_asian))\n",
    "# Difference between the hedged quantities (Asian - European)\n",
    "diff=in_with_hedge_asian - in_with_hedge_e\n",
    "print('Difference between the hedged quantities (Asian - European):{:.2f}'.format(diff))"
   ]
  },
  {
   "cell_type": "markdown",
   "id": "021b89d9",
   "metadata": {},
   "source": [
    ">> ## Question 3"
   ]
  },
  {
   "cell_type": "code",
   "execution_count": 7,
   "id": "991672d7",
   "metadata": {},
   "outputs": [
    {
     "name": "stdout",
     "output_type": "stream",
     "text": [
      "Mean: 1.077465638904369\n",
      "Median: 3.923303621715263\n",
      "Standard Deviation: 6.638815240219233\n",
      "Minimum: -43.78335954373665\n",
      "Maximum: 6.096894122696767\n",
      "5th Percentile: -12.654878948883162\n",
      "95th Percentile: 6.0968941226963125\n",
      "Proportion of Negative Differences: 0.3144\n"
     ]
    },
    {
     "data": {
      "image/png": "[encoded data removed]",
      "text/plain": [
       "<Figure size 432x288 with 1 Axes>"
      ]
     },
     "metadata": {
      "needs_background": "light"
     },
     "output_type": "display_data"
    }
   ],
   "source": [
    "np.random.seed(7)\n",
    "# Given parameters\n",
    "alpha=0.0\n",
    "# Number of simulations\n",
    "z = 10000\n",
    "\n",
    "# Placeholder for the cost of the Asian put option from question 1\n",
    "cost_of_asian_put = cost_of_asian_put  # This would be the value obtained from question 1\n",
    "\n",
    "def simulate_lognormal_path(X0, sigma, alpha, N):\n",
    "    dt = 1 / N\n",
    "    path = [X0]\n",
    "    for _ in range(1, N):\n",
    "        z_value = np.random.standard_normal()\n",
    "        rate = path[-1] * np.exp((alpha - 0.5 * sigma ** 2) * dt + sigma * np.sqrt(dt) * z_value)\n",
    "        path.append(rate)\n",
    "    return path\n",
    "\n",
    "# Simulate all paths\n",
    "simulated_paths = np.array([simulate_lognormal_path(X0, sigma, alpha, N) for _ in range(z)])\n",
    "# Calculate average exchange rate for the simulated paths\n",
    "average_exchange_r=np.mean(simulated_paths)\n",
    "# Calculate the revenue without hedging\n",
    "revenues_without_hedge = 12 * 100 * average_exchange_r\n",
    "# Calculate the profit for the European put options at each step for all paths\n",
    "european_put_profits = np.maximum(K - simulated_paths, 0) * 100 - put_prices_table['Individual put price European(each for 100 CAD/USD)'].values\n",
    "\n",
    "# Sum up the profits across all intervals for each path to get the total profit from European put options\n",
    "total_european_profits = np.sum(european_put_profits, axis=1)\n",
    "\n",
    "# Calculate the revenues with hedging using the European put options for each path\n",
    "revenue_with_hedge_european = revenues_without_hedge + total_european_profits\n",
    "\n",
    "# Calculate the profit for the Asian put option for each path\n",
    "asian_put_profits = np.maximum(K - np.mean(simulated_paths, axis=1), 0) * 12 * 100 - cost_of_asian_put\n",
    "\n",
    "# Calculate the revenues with hedging using the Asian put option for each path\n",
    "revenue_with_hedge_asian = revenues_without_hedge + asian_put_profits\n",
    "\n",
    "# Compute the difference in hedged revenues between the Asian and European options for each path\n",
    "differences_hedged_revenues = revenue_with_hedge_asian - revenue_with_hedge_european\n",
    "\n",
    "# Calculate statistics for the differences of the hedged revenue\n",
    "stats = {\n",
    "    \"Mean\": np.mean(differences_hedged_revenues),\n",
    "    \"Median\": np.median(differences_hedged_revenues),\n",
    "    \"Standard Deviation\": np.std(differences_hedged_revenues),\n",
    "    \"Minimum\": np.min(differences_hedged_revenues),\n",
    "    \"Maximum\": np.max(differences_hedged_revenues),\n",
    "    \"5th Percentile\": np.percentile(differences_hedged_revenues, 5),\n",
    "    \"95th Percentile\": np.percentile(differences_hedged_revenues, 95),\n",
    "    \"Proportion of Negative Differences\": np.mean(differences_hedged_revenues < 0)\n",
    "}\n",
    "\n",
    "# Print statistics\n",
    "for key, value in stats.items():\n",
    "    print(f\"{key}: {value}\")\n",
    "\n",
    "# Plot a histogram\n",
    "plt.hist(differences_hedged_revenues, bins=50, color='purple', edgecolor='black', alpha=0.7)\n",
    "plt.xlabel('Difference in Revenues (Asian - European)')\n",
    "plt.ylabel('Frequency')\n",
    "plt.title('Histogram of Differences in Revenues')\n",
    "plt.grid(True)\n",
    "plt.show()\n"
   ]
  },
  {
   "cell_type": "markdown",
   "id": "85d17a2e",
   "metadata": {},
   "source": [
    "\n",
    ">> **Statistics:**\n",
    "\n",
    "- The median is higher than the mean, which suggests that while there are more negative differences, the magnitude of underperformance is not as significant in most cases.\n",
    "\n",
    "- The standard deviation is relatively high, which indicates high risk. This could affect the hedging strategy for a company.\n",
    "\n",
    "- The minimum value shows a possibility of significant negative hedging revenue, using Asian puts, which in the worst case scenarios could lead to high hedging costs.\n",
    "\n",
    "- The 5th percentile shows significant negative outcomes, which management should consider as a possible risk. and the the 95th percentile indicates that the best outcomes of the Asian put strategy are considerable.\n",
    "\n",
    "**Advantages of Asian Put Hedging Strategy:**\n",
    "\n",
    "1. Asian put lowers the risk. More values are concentrated around 0 so this means that while there are times where the Asian put underperforms compared to the European put(Asian < European), the strategy generally avoids extreme losses.\n",
    "\n",
    "2. Asian puts are more cost effiecient. We have to pay the premium on 1 Asian put contract which is cheaper than 12 put options. They also have lower transaction costs.\n",
    "\n",
    "3. Less complex to manage than 12 puts contracts.\n",
    "\n",
    "**Disadvantages of Asian Put Hedging Strategy:**\n",
    "\n",
    "1. The mean of the differences is 1, indicating that on average, there is no significant advantage to using Asian puts over European puts. Moreover, it can be seen that there are many negative outcomes, suggesting that in many scenarios, Asian puts may do poorly.\n",
    "\n",
    "2. The proportion of negative differences is around 31.4% and from that we can get,in a significant amount of situations, the hedging strategy with Asian put have lower hedging revenues copmpared to European one.\n",
    "\n",
    "**Strategic Advice:**\n",
    "\n",
    "Given the results, our hedging strategy should be adjusted to the company's behavior towards risk and market outlook. If the company is risk seeker and can accept the possibility of slight underperformance, then Asian puts could be included as part of a diversified hedging strategy. However, if the company is risk-averse or if we anticipate a highly volatile market, the approach towards Asian puts should be done with caution. It could be wise to use a combination of Asian and European puts to balance the hedging portfolio because the data points to a mixed performance and also by combining the advantages of each option type, this mixed method may be able to lessen their drawbacks.\n"
   ]
  },
  {
   "cell_type": "markdown",
   "id": "7dd6a1e4",
   "metadata": {},
   "source": [
    ">> ## Question 4"
   ]
  },
  {
   "cell_type": "code",
   "execution_count": 8,
   "id": "eb6a72a1",
   "metadata": {},
   "outputs": [
    {
     "name": "stdout",
     "output_type": "stream",
     "text": [
      "                                        case1       case2      case3\n",
      "Mean                                 1.077466   -4.073949   3.609740\n",
      "Median                               3.923304    1.737565   5.064529\n",
      "Standard Deviation                   6.638815   13.427338   3.336209\n",
      "Minimum                            -43.783360 -104.090233 -17.658871\n",
      "Maximum                              6.096894    6.096894   6.096894\n",
      "5th Percentile                     -12.654879  -31.925370  -3.313998\n",
      "95th Percentile                      6.096894    6.096894   6.096894\n",
      "Proportion of Negative Differences   0.314400    0.450700   0.141600\n"
     ]
    }
   ],
   "source": [
    "np.random.seed(7)\n",
    "\n",
    "# Define the volatilities for each case\n",
    "volatilities = [0.1, 0.2, 0.05]\n",
    "\n",
    "# Store the results in a dictionary\n",
    "results = {}\n",
    "\n",
    "# Run simulation for each volatility case\n",
    "for case, sigma in enumerate(volatilities, start=1):\n",
    "\n",
    "    cost_of_asian_put = cost_of_asian_put  # This would be the value obtained from question 1\n",
    "\n",
    "    def simulate_lognormal_path(X0, sigma, alpha, N):\n",
    "        dt = 1 / N\n",
    "        path = [X0]\n",
    "        for _ in range(1, N):\n",
    "            z_value = np.random.standard_normal()\n",
    "            rate = path[-1] * np.exp((alpha - 0.5 * sigma ** 2) * dt + sigma * np.sqrt(dt) * z_value)\n",
    "            path.append(rate)\n",
    "        return path\n",
    "\n",
    "    simulated_paths = np.array([simulate_lognormal_path(X0, sigma, alpha, N) for _ in range(z)])\n",
    "    \n",
    "    average_exchange_r=np.mean(simulated_paths)\n",
    "    revenues_without_hedge = 12 * 100 * average_exchange_r\n",
    "    european_put_profits = np.maximum(K - simulated_paths, 0) * 100 - put_prices_table['Individual put price European(each for 100 CAD/USD)'].values\n",
    "    total_european_profits = np.sum(european_put_profits, axis=1)\n",
    "    revenue_with_hedge_european = revenues_without_hedge + total_european_profits\n",
    "    asian_put_profits = np.maximum(K - np.mean(simulated_paths, axis=1), 0) * 12 * 100 - cost_of_asian_put\n",
    "    revenue_with_hedge_asian = revenues_without_hedge + asian_put_profits\n",
    "    differences_hedged_revenues = revenue_with_hedge_asian - revenue_with_hedge_european\n",
    "    \n",
    "    # Calculate statistics for the differences\n",
    "    stats = {\n",
    "        \"Mean\": np.mean(differences_hedged_revenues),\n",
    "        \"Median\": np.median(differences_hedged_revenues),\n",
    "        \"Standard Deviation\": np.std(differences_hedged_revenues),\n",
    "        \"Minimum\": np.min(differences_hedged_revenues),\n",
    "        \"Maximum\": np.max(differences_hedged_revenues),\n",
    "        \"5th Percentile\": np.percentile(differences_hedged_revenues, 5),\n",
    "        \"95th Percentile\": np.percentile(differences_hedged_revenues, 95),\n",
    "        \"Proportion of Negative Differences\": np.mean(differences_hedged_revenues < 0)\n",
    "    }\n",
    "    \n",
    "    # Add the results to the dictionary\n",
    "    results[f'case{case}'] = stats\n",
    "\n",
    "# Convert the results dictionary to a DataFrame for display\n",
    "results_df = pd.DataFrame(results)\n",
    "\n",
    "# Display the table\n",
    "print(results_df)\n"
   ]
  },
  {
   "cell_type": "markdown",
   "id": "0374594c",
   "metadata": {},
   "source": [
    "- The average value in case 2 is negative which suggests that on average as the volatility increases, the Asian put underperforms leading to losses.\n",
    "\n",
    "- The standard deviation in case 2 is almost double that of case 1 and significantly higher than in case 3(case 3 being almost half of case 1). This implies that higher volatility which means higher risk, leads to greater uncertainty in the hedging outcome.\n",
    "\n",
    "- By comparing case 1 with case 2 it can be seen that the range of outcomes widens significantly as volatility increases. However, the maximum value remains the same across all cases, indicating that the highest outcomes of the hedging strategies does not increase with higher volatility.\n",
    "\n",
    "In summary, the results suggest that as volatility increases, the risks associated with hedging using Asian options also increase. This is demonstrated by more frequent and more significant underperformances compared to European options. Conversely, when volatility is lower, Asian options tend to perform more favorably, with a lower risk of underperformance."
   ]
  },
  {
   "cell_type": "code",
   "execution_count": null,
   "id": "7542c150",
   "metadata": {},
   "outputs": [],
   "source": []
  }
 ],
 "metadata": {
  "kernelspec": {
   "display_name": "Python 3 (ipykernel)",
   "language": "python",
   "name": "python3"
  },
  "language_info": {
   "codemirror_mode": {
    "name": "ipython",
    "version": 3
   },
   "file_extension": ".py",
   "mimetype": "text/x-python",
   "name": "python",
   "nbconvert_exporter": "python",
   "pygments_lexer": "ipython3",
   "version": "3.9.12"
  }
 },
 "nbformat": 4,
 "nbformat_minor": 5
}
